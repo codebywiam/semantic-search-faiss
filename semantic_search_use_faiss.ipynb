{
  "cells": [
    {
      "cell_type": "code",
      "execution_count": null,
      "id": "3rOOfx-iIIbp",
      "metadata": {
        "colab": {
          "base_uri": "https://localhost:8080/"
        },
        "id": "3rOOfx-iIIbp",
        "outputId": "c1c93f89-aff3-4d2c-c0a9-d68eb2587d78"
      },
      "outputs": [],
      "source": [
        "!pip install faiss-cpu numpy scikit-learn matplotlib seaborn ipywidgets pandas -q\n",
        "!pip install \"tensorflow>=2.0.0\" -q\n",
        "!pip install --upgrade tensorflow-hub -q"
      ]
    },
    {
      "cell_type": "markdown",
      "id": "QMoE1fkXIIbq",
      "metadata": {
        "id": "QMoE1fkXIIbq"
      },
      "source": [
        "### Importing Required Libraries\n"
      ]
    },
    {
      "cell_type": "code",
      "execution_count": null,
      "id": "bJC6Ny9DIIbq",
      "metadata": {
        "colab": {
          "base_uri": "https://localhost:8080/"
        },
        "id": "bJC6Ny9DIIbq",
        "outputId": "66412b33-5ece-428d-d2a5-02ad518690e9"
      },
      "outputs": [],
      "source": [
        "# Core libraries\n",
        "import numpy as np\n",
        "import tensorflow as tf\n",
        "import tensorflow_hub as hub\n",
        "import faiss\n",
        "import re\n",
        "import pandas as pd \n",
        "\n",
        "# Scikit-learn for dataset\n",
        "from sklearn.datasets import fetch_20newsgroups\n",
        "from sklearn.metrics.pairwise import cosine_similarity # For embedding example\n",
        "\n",
        "# Visualization\n",
        "import matplotlib.pyplot as plt\n",
        "import seaborn as sns\n",
        "\n",
        "# Interactive Widgets (Optional)\n",
        "import ipywidgets as widgets\n",
        "from IPython.display import display, clear_output\n",
        "\n",
        "# Suppressing warnings for cleaner output\n",
        "import warnings\n",
        "def warn(*args, **kwargs):\n",
        "    pass\n",
        "warnings.warn = warn\n",
        "warnings.filterwarnings('ignore')\n",
        "\n",
        "print(f\"TensorFlow Version: {tf.__version__}\")\n",
        "print(f\"TensorFlow Hub Version: {hub.__version__}\")\n",
        "print(f\"Faiss Version: {faiss.__version__}\")\n",
        "print(f\"NumPy Version: {np.__version__}\")\n",
        "print(f\"Pandas Version: {pd.__version__}\")"
      ]
    },
    {
      "cell_type": "markdown",
      "id": "GWxP7iuvIIbq",
      "metadata": {
        "id": "GWxP7iuvIIbq"
      },
      "source": [
        "## <a id='The-20-Newsgroups-Dataset'></a>The 20 Newsgroups Dataset\n",
        "\n",
        "In this project, we'll be using the 20 Newsgroups dataset, a classic collection in NLP. It comprises approximately 18,000 newsgroup posts (if fetching 'all', or ~11,000 for 'train' subset) across 20 different topics. It's ideal for semantic search because:\n",
        "\n",
        "- **Diverse Topics**: It covers a wide range of subjects like computers, religion, politics, sports, and science.\n",
        "- **Real-world Text**: The language is natural, including informal discussions, technical jargon, and varying writing styles.\n",
        "- **Context is Key**: Understanding the underlying meaning is crucial for effective search and classification.\n",
        "\n",
        "### <a id='Loading-and-Exploring'></a>Loading and Exploring the Dataset\n",
        "\n",
        "Let's load the dataset and take a quick look."
      ]
    },
    {
      "cell_type": "code",
      "execution_count": null,
      "id": "0cqtE7XTIIbq",
      "metadata": {
        "colab": {
          "base_uri": "https://localhost:8080/"
        },
        "id": "0cqtE7XTIIbq",
        "outputId": "15da51a5-941f-42ca-8bed-2740280e1858"
      },
      "outputs": [],
      "source": [
        "# We'll fetch the 'train' subset for quicker processing,\n",
        "# and remove headers, footers, and quotes to focus on the main content.\n",
        "newsgroups_data = fetch_20newsgroups(subset='train', remove=('headers', 'footers', 'quotes'))\n",
        "\n",
        "# Take only the first 8000 samples\n",
        "sample_size = 8000\n",
        "data_samples = newsgroups_data.data[:sample_size]\n",
        "target_labels_samples = newsgroups_data.target[:sample_size]\n",
        "target_names = newsgroups_data.target_names[:sample_size]\n",
        "\n",
        "print(f\"Number of documents loaded: {len(data_samples)}\")\n",
        "print(f\"Number of unique categories: {len(target_names)}\")\n",
        "\n",
        "print(\"\\nFirst few category names:\")\n",
        "print(target_names[:5])"
      ]
    },
    {
      "cell_type": "markdown",
      "id": "dIlu6BboIIbr",
      "metadata": {
        "id": "dIlu6BboIIbr"
      },
      "source": [
        "Let's see the distribution of documents across categories."
      ]
    },
    {
      "cell_type": "code",
      "execution_count": null,
      "id": "hvmCwBm1IIbr",
      "metadata": {
        "colab": {
          "base_uri": "https://localhost:8080/",
          "height": 807
        },
        "id": "hvmCwBm1IIbr",
        "outputId": "a572fa37-f8f6-4bff-e6b6-4d5265b143fc"
      },
      "outputs": [],
      "source": [
        "plt.figure(figsize=(12, 8))\n",
        "category_counts = pd.Series([target_names[i] for i in target_labels_samples]).value_counts()\n",
        "sns.barplot(x=category_counts.values, y=category_counts.index, palette=\"viridis\")\n",
        "plt.title('Distribution of Documents per Category (Train set)')\n",
        "plt.xlabel('Number of Documents')\n",
        "plt.ylabel('Category')\n",
        "plt.tight_layout()\n",
        "plt.show()"
      ]
    },
    {
      "cell_type": "code",
      "execution_count": null,
      "id": "idTXWhSSIIbr",
      "metadata": {
        "colab": {
          "base_uri": "https://localhost:8080/"
        },
        "id": "idTXWhSSIIbr",
        "outputId": "29f2a476-6910-4b6b-ff6e-229bc7dba1fa"
      },
      "outputs": [],
      "source": [
        "# Display the first few posts to understand their structure\n",
        "print(\"\\nSample posts (snippets):\")\n",
        "for i in range(3):\n",
        "    print(f\"--- Document {i+1} (Category: {target_names[target_labels_samples[i]]}) ---\")\n",
        "    print(data_samples[i][:300].strip() + \"...\")\n",
        "    print(\"-\"*80 + \"\\n\")"
      ]
    },
    {
      "cell_type": "markdown",
      "id": "BFLQF5zfIIbr",
      "metadata": {
        "id": "BFLQF5zfIIbr"
      },
      "source": [
        "## <a id='Preprocessing'></a>Preprocessing Text Data\n",
        "\n",
        "Preprocessing is a crucial step to clean and standardize our text data. This helps the Universal Sentence Encoder focus on the meaningful content and generate better embeddings.\n",
        "\n",
        "### <a id='Why-Preprocessing-Matters'></a>Why Preprocessing Matters\n",
        "\n",
        "- **Noise Reduction**: Removing irrelevant characters (like special symbols, excessive whitespace) or metadata (like email headers, if not removed during fetch) helps the model focus on the actual content.\n",
        "- **Standardization**: Converting text to lowercase ensures that words like \"Search\" and \"search\" are treated the same.\n",
        "- **Improved Embeddings**: Cleaner text generally leads to more accurate and representative vector embeddings.\n",
        "\n",
        "Our preprocessing function will:\n",
        "1.  Remove email addresses (often noisy and not semantically rich for general topics).\n",
        "2.  Remove characters that are not alphanumeric or whitespace.\n",
        "3.  Convert text to lowercase.\n",
        "4.  Normalize whitespace (reduce multiple spaces/newlines to a single space).\n",
        "\n",
        "**Note:** We already removed headers, footers, and quotes when loading the data using `fetch_20newsgroups(remove=...)`. If we hadn't, we would add steps to remove those here."
      ]
    },
    {
      "cell_type": "code",
      "execution_count": null,
      "id": "xEmQv7KhIIbr",
      "metadata": {
        "colab": {
          "base_uri": "https://localhost:8080/"
        },
        "id": "xEmQv7KhIIbr",
        "outputId": "2353d455-2f32-4934-aff8-893b32e262d0"
      },
      "outputs": [],
      "source": [
        "def preprocess_text(text):\n",
        "    if not isinstance(text, str):\n",
        "        return \"\"\n",
        "    text = re.sub(r'\\S*@\\S*\\s?', '', text) # Remove email addresses\n",
        "    text = re.sub(r'[^a-zA-Z0-9\\s]', '', text) # Remove non-alphanumeric (keep spaces, numbers)\n",
        "    text = text.lower()\n",
        "    text = re.sub(r'\\s+', ' ', text).strip() # Normalize whitespace\n",
        "    return text\n",
        "\n",
        "processed_documents = []\n",
        "original_documents_for_processed = []\n",
        "target_labels_for_processed = [] # Store corresponding labels\n",
        "\n",
        "for i, doc in enumerate(data_samples):\n",
        "    processed_doc = preprocess_text(doc)\n",
        "    if processed_doc: # Only include non-empty documents after processing\n",
        "        processed_documents.append(processed_doc)\n",
        "        original_documents_for_processed.append(doc)\n",
        "        target_labels_for_processed.append(target_labels_samples[i])\n",
        "\n",
        "print(f\"Number of documents after preprocessing and filtering: {len(processed_documents)}\")"
      ]
    },
    {
      "cell_type": "markdown",
      "id": "VJt41b6dIIbr",
      "metadata": {
        "id": "VJt41b6dIIbr"
      },
      "source": [
        "### <a id='Preprocessing-Steps'></a>Preprocessing Steps in Action\n",
        "\n",
        "Let's look at an example of a document before and after preprocessing."
      ]
    },
    {
      "cell_type": "code",
      "execution_count": null,
      "id": "hXd2GtJUIIbr",
      "metadata": {
        "colab": {
          "base_uri": "https://localhost:8080/"
        },
        "id": "hXd2GtJUIIbr",
        "outputId": "63f1fc3e-6827-40fc-c02d-d94a0859a461"
      },
      "outputs": [],
      "source": [
        "sample_idx = 0\n",
        "if len(original_documents_for_processed) > sample_idx:\n",
        "    print(\"Original Document (from filtered list, Snippet):\")\n",
        "    print(original_documents_for_processed[sample_idx][:500].strip() + \"...\")\n",
        "    print(f\"Original Category: {target_names[target_labels_for_processed[sample_idx]]}\")\n",
        "    print(\"\\n\" + \"-\"*80 + \"\\n\")\n",
        "    print(\"Preprocessed Document (Snippet):\")\n",
        "    print(processed_documents[sample_idx][:500] + \"...\")\n",
        "else:\n",
        "    print(\"Not enough documents to display sample.\")"
      ]
    },
    {
      "cell_type": "markdown",
      "id": "ciDigLnNIIbs",
      "metadata": {
        "id": "ciDigLnNIIbs"
      },
      "source": [
        "## <a id='Universal-Sentence-Encoder'></a>Universal Sentence Encoder (USE)\n",
        "\n",
        "The Universal Sentence Encoder (USE) is a model from Google that encodes text into high-dimensional vectors (embeddings). These embeddings capture the semantic meaning of sentences, paragraphs, or short documents. Sentences with similar meanings will have embeddings that are close together in the vector space.\n",
        "\n",
        "- We load the pre-trained USE model from TensorFlow Hub.\n",
        "- We define a function to take text and return its USE embedding as a NumPy array.\n",
        "\n",
        "### <a id='Generating-Embeddings'></a>Generating Embeddings"
      ]
    },
    {
      "cell_type": "code",
      "execution_count": null,
      "id": "U9f-scs8IIbs",
      "metadata": {
        "colab": {
          "base_uri": "https://localhost:8080/"
        },
        "id": "U9f-scs8IIbs",
        "outputId": "523b522b-58d1-4d4a-baf8-01af258c7ade"
      },
      "outputs": [],
      "source": [
        "print(\"Loading Universal Sentence Encoder model from TensorFlow Hub...\")\n",
        "use_model_url = \"https://tfhub.dev/google/universal-sentence-encoder/4\"\n",
        "embed_model = hub.load(use_model_url)\n",
        "print(\"USE model loaded successfully.\")\n",
        "\n",
        "def generate_embeddings(texts_list):\n",
        "    if not texts_list:\n",
        "        return np.array([])\n",
        "    print(f\"Generating embeddings for {len(texts_list)} texts...\")\n",
        "    # USE model expects a list of strings.\n",
        "    embeddings = embed_model(texts_list)\n",
        "    return embeddings.numpy()\n",
        "\n",
        "document_embeddings = np.array([]) # Initialize\n",
        "if processed_documents:\n",
        "    document_embeddings = generate_embeddings(processed_documents)\n",
        "    print(f\"Shape of document embeddings: {document_embeddings.shape}\")\n",
        "else:\n",
        "    print(\"No processed documents to embed.\")"
      ]
    },
    {
      "cell_type": "markdown",
      "id": "32LQAcJCIIbs",
      "metadata": {
        "id": "32LQAcJCIIbs"
      },
      "source": [
        "### <a id='Understanding-Embeddings'></a>Understanding Embeddings (Briefly)\n",
        "\n",
        "Each document is now transformed into a dense vector of 512 numbers. These numbers represent the document's meaning in a high-dimensional space. We can use mathematical operations, like cosine similarity, to measure how 'close' or 'similar' two embeddings (and thus their original texts) are.\n",
        "\n",
        "Let's quickly check the similarity between a few example sentences:"
      ]
    },
    {
      "cell_type": "code",
      "execution_count": null,
      "id": "IC9iT8P5IIbs",
      "metadata": {
        "colab": {
          "base_uri": "https://localhost:8080/"
        },
        "id": "IC9iT8P5IIbs",
        "outputId": "fb3b306a-7de7-4bc5-80d7-8e96c068b8d0"
      },
      "outputs": [],
      "source": [
        "example_sentences = [\n",
        "    \"How is the weather today?\",\n",
        "    \"What is the current weather like?\",\n",
        "    \"This is a completely unrelated sentence about computers.\",\n",
        "    \"Let's talk about artificial intelligence.\"\n",
        "]\n",
        "\n",
        "if example_sentences:\n",
        "    example_embeddings = generate_embeddings(example_sentences)\n",
        "    if example_embeddings.ndim == 2 and example_embeddings.shape[0] > 1:\n",
        "        similarity_matrix = cosine_similarity(example_embeddings)\n",
        "        print(\"\\nCosine Similarity Matrix for example sentences:\")\n",
        "        print(pd.DataFrame(similarity_matrix, index=example_sentences, columns=example_sentences).round(4))\n",
        "\n",
        "        print(f\"\\nSimilarity of '{example_sentences[0]}' with:\")\n",
        "        for i, sentence in enumerate(example_sentences[1:]):\n",
        "            print(f\" - '{sentence}': {similarity_matrix[0, i+1]:.4f}\")\n",
        "    else:\n",
        "        print(\"Could not generate example embeddings to show similarity.\")"
      ]
    },
    {
      "cell_type": "markdown",
      "id": "kklkHm3WIIbs",
      "metadata": {
        "id": "kklkHm3WIIbs"
      },
      "source": [
        "## <a id='Faiss'></a>Indexing and Searching with Faiss\n",
        "\n",
        "FAISS (Facebook AI Similarity Search) is a library for efficient similarity search and clustering of dense vectors. It's incredibly fast, especially for large datasets.\n",
        "\n",
        "### <a id='Creating-a-FAISS-Index'></a>Creating a FAISS Index\n",
        "\n",
        "1.  **Determine Dimension**: Get the dimension of our embeddings (512 for USE).\n",
        "2.  **Choose an Index Type**: We'll use `faiss.IndexFlatL2`. This index performs an exact search using L2 (Euclidean) distance. It's simple and effective for datasets of moderate size. For very large datasets, FAISS offers more complex approximate nearest neighbor (ANN) indexes (e.g., `IndexIVFFlat`, `IndexHNSWFlat`) that trade a bit of accuracy for significant speed gains.\n",
        "3.  **Add Vectors**: Add our document embeddings to the index."
      ]
    },
    {
      "cell_type": "code",
      "execution_count": null,
      "id": "JBywriWWIIbs",
      "metadata": {
        "colab": {
          "base_uri": "https://localhost:8080/"
        },
        "id": "JBywriWWIIbs",
        "outputId": "74fbd14d-c330-4793-b1f0-9ce6a5cee0a7"
      },
      "outputs": [],
      "source": [
        "faiss_index = None # Initialize\n",
        "if document_embeddings.size > 0:\n",
        "    dimension = document_embeddings.shape[1]\n",
        "    print(f\"Dimension of embeddings: {dimension}\")\n",
        "\n",
        "    faiss_index = faiss.IndexFlatL2(dimension)\n",
        "    print(f\"Is FAISS index trained? {faiss_index.is_trained}\")\n",
        "\n",
        "    faiss_index.add(document_embeddings.astype('float32'))\n",
        "    print(f\"Number of vectors in the FAISS index: {faiss_index.ntotal}\")\n",
        "else:\n",
        "    print(\"No document embeddings available to create FAISS index.\")"
      ]
    },
    {
      "cell_type": "markdown",
      "id": "jOsrmykMIIbs",
      "metadata": {
        "id": "jOsrmykMIIbs"
      },
      "source": [
        "### <a id='Querying-the-Index'></a>Querying the Index\n",
        "\n",
        "Now we can define a search function that:\n",
        "1.  Takes a query text.\n",
        "2.  Preprocesses the query.\n",
        "3.  Generates an embedding for the query using USE.\n",
        "4.  Searches the FAISS index for the `k` most similar document embeddings.\n",
        "5.  Returns the distances and indices of these similar documents."
      ]
    },
    {
      "cell_type": "code",
      "execution_count": null,
      "id": "5aXQFTdPIIbs",
      "metadata": {
        "colab": {
          "base_uri": "https://localhost:8080/"
        },
        "id": "5aXQFTdPIIbs",
        "outputId": "8cdf6cc3-cfd9-46fc-d309-b91683058a97"
      },
      "outputs": [],
      "source": [
        "def search_documents(query_text, k=5):\n",
        "    if not faiss_index or faiss_index.ntotal == 0:\n",
        "        print(\"FAISS index is not available or is empty.\")\n",
        "        return np.array([]), np.array([])\n",
        "\n",
        "    preprocessed_query = preprocess_text(query_text)\n",
        "    if not preprocessed_query:\n",
        "        print(\"Query became empty after preprocessing.\")\n",
        "        return np.array([]), np.array([])\n",
        "\n",
        "    query_embedding = generate_embeddings([preprocessed_query])\n",
        "\n",
        "    # FAISS search returns distances (D) and indices (I)\n",
        "    distances, indices = faiss_index.search(query_embedding.astype('float32'), k)\n",
        "\n",
        "    return distances[0], indices[0] # Return for the single query\n",
        "\n",
        "example_query = \"reliable cars for families\"\n",
        "num_results = 5\n",
        "\n",
        "print(f\"Searching for: '{example_query}' (top {num_results} results)\\n\")\n",
        "distances, result_indices = search_documents(example_query, k=num_results)\n",
        "\n",
        "if result_indices.size > 0:\n",
        "    for i, idx in enumerate(result_indices):\n",
        "        if idx < len(original_documents_for_processed):\n",
        "            print(f\"--- Rank {i+1} --- (Distance: {distances[i]:.4f})\")\n",
        "            print(f\"Category: {target_names[target_labels_for_processed[idx]]}\")\n",
        "            print(\"Original Snippet:\")\n",
        "            print(original_documents_for_processed[idx][:300].strip() + \"...\")\n",
        "            print(\"\\nProcessed Snippet:\")\n",
        "            print(processed_documents[idx][:300] + \"...\")\n",
        "            print(\"-\"*50 + \"\\n\")\n",
        "        else:\n",
        "            print(f\"Rank {i+1}: Index {idx} out of bounds.\")\n",
        "else:\n",
        "    print(\"No results found or error during search.\")"
      ]
    },
    {
      "cell_type": "markdown",
      "id": "MfSyF7HRIIbt",
      "metadata": {
        "id": "MfSyF7HRIIbt"
      },
      "source": [
        "Let's try another query, perhaps something more technical."
      ]
    },
    {
      "cell_type": "code",
      "execution_count": null,
      "id": "nEkdFPBTIIbt",
      "metadata": {
        "colab": {
          "base_uri": "https://localhost:8080/"
        },
        "id": "nEkdFPBTIIbt",
        "outputId": "183b0e4e-4bb7-4e3c-916c-989b0493820c"
      },
      "outputs": [],
      "source": [
        "technical_query = \"encryption algorithms and data security\"\n",
        "num_results = 3\n",
        "\n",
        "print(f\"Searching for: '{technical_query}' (top {num_results} results)\\n\")\n",
        "distances, result_indices = search_documents(technical_query, k=num_results)\n",
        "\n",
        "if result_indices.size > 0:\n",
        "    for i, idx in enumerate(result_indices):\n",
        "        if idx < len(original_documents_for_processed):\n",
        "            print(f\"--- Rank {i+1} --- (Distance: {distances[i]:.4f})\")\n",
        "            print(f\"Category: {target_names[target_labels_for_processed[idx]]}\")\n",
        "            print(\"Original Snippet:\")\n",
        "            print(original_documents_for_processed[idx][:300].strip() + \"...\")\n",
        "            print(\"-\"*50 + \"\\n\")\n",
        "else:\n",
        "    print(\"No results found.\")"
      ]
    },
    {
      "cell_type": "markdown",
      "id": "T4Mp_7xbIIbt",
      "metadata": {
        "id": "T4Mp_7xbIIbt"
      },
      "source": [
        "## <a id='Interactive-Querying'></a>Bonus: Interactive Querying\n",
        "\n",
        "Using `ipywidgets`, we can create a simple interactive search box directly within the notebook."
      ]
    },
    {
      "cell_type": "code",
      "execution_count": null,
      "id": "6IfGo1llIIbt",
      "metadata": {
        "colab": {
          "base_uri": "https://localhost:8080/",
          "height": 393,
          "referenced_widgets": [
            "3ae49bcc9fb04504871c0468cb105a53",
            "f69a335ddcca496ebcfb43b753183390",
            "8922fc8a50044089b437d7dcc49f1aaf",
            "612d2fcf7dc947f0b0fb3bbcdfc20ae8",
            "b301a3e676ad43ec8d3d5b305eee66cd",
            "1dcf9cc10c0d49c0a6a1817a5906fb1b",
            "0cea13719f2f4afd8f508678de7c4033",
            "8a402a428c3847ff98b1044212cb822e",
            "45d7c18fab9c4c6dafb157bc7867f37b",
            "36e0c35ac8a14ddeba364fbc098fdfb4",
            "740c2d18eaa649b8ac0b09c7187f81a1",
            "920c8f285dad4eac81f5ccd461c9746e",
            "2cd280a4d72941e394c355c563ec5d0e",
            "82358e80b48b42ebafe2a85408cb0430",
            "519356a170d84964b8fb0345b0b8b1b2"
          ]
        },
        "id": "6IfGo1llIIbt",
        "outputId": "ccbac259-9a69-4e88-a2fc-c90dbaeba4a2"
      },
      "outputs": [],
      "source": [
        "query_input = widgets.Text(\n",
        "    value='space exploration technology',\n",
        "    placeholder='Enter your search query',\n",
        "    description='Search:',\n",
        "    disabled=False,\n",
        "    layout=widgets.Layout(width='60%')\n",
        ")\n",
        "\n",
        "num_results_slider = widgets.IntSlider(\n",
        "    value=3,\n",
        "    min=1,\n",
        "    max=10,\n",
        "    step=1,\n",
        "    description='Results:',\n",
        "    disabled=False,\n",
        "    continuous_update=False,\n",
        "    orientation='horizontal',\n",
        "    readout=True,\n",
        "    readout_format='d'\n",
        ")\n",
        "\n",
        "results_output_widget = widgets.Output()\n",
        "\n",
        "def handle_search_interaction(b):\n",
        "    with results_output_widget:\n",
        "        clear_output(wait=True) # Clear previous results\n",
        "        query = query_input.value\n",
        "        k_val = num_results_slider.value\n",
        "        if not query.strip():\n",
        "            print(\"Please enter a query.\")\n",
        "            return\n",
        "\n",
        "        print(f\"Searching for: '{query}' (top {k_val} results)...\\n\")\n",
        "        distances, result_indices = search_documents(query, k=k_val)\n",
        "        if result_indices.size > 0:\n",
        "            for i, idx in enumerate(result_indices):\n",
        "                if idx < len(original_documents_for_processed):\n",
        "                    print(f\"--- Rank {i+1} --- (Distance: {distances[i]:.4f})\")\n",
        "                    print(f\"Category: {target_names[target_labels_for_processed[idx]]}\")\n",
        "                    print(original_documents_for_processed[idx][:250].strip() + \"...\")\n",
        "                    print(\"-\"*40 + \"\\n\")\n",
        "        else:\n",
        "            print(\"No results found for this query.\")\n",
        "\n",
        "search_button_widget = widgets.Button(description=\"Search Now\")\n",
        "search_button_widget.on_click(handle_search_interaction)\n",
        "\n",
        "# Arrange widgets\n",
        "input_box = widgets.HBox([query_input, num_results_slider])\n",
        "display(widgets.VBox([input_box, search_button_widget, results_output_widget]))\n",
        "\n",
        "# Optional: Perform an initial search with default values\n",
        "# handle_search_interaction(None)"
      ]
    }
  ],
  "metadata": {
    "accelerator": "GPU",
    "colab": {
      "gpuType": "T4",
      "provenance": []
    },
    "kernelspec": {
      "display_name": "Python 3",
      "name": "python3"
    },
    "language_info": {
      "codemirror_mode": {
        "name": "ipython",
        "version": 3
      },
      "file_extension": ".py",
      "mimetype": "text/x-python",
      "name": "python",
      "nbconvert_exporter": "python",
      "pygments_lexer": "ipython3",
      "version": "3.9.12"
    },
    "widgets": {
      "application/vnd.jupyter.widget-state+json": {
        "0cea13719f2f4afd8f508678de7c4033": {
          "model_module": "@jupyter-widgets/controls",
          "model_module_version": "1.5.0",
          "model_name": "IntSliderModel",
          "state": {
            "_dom_classes": [],
            "_model_module": "@jupyter-widgets/controls",
            "_model_module_version": "1.5.0",
            "_model_name": "IntSliderModel",
            "_view_count": null,
            "_view_module": "@jupyter-widgets/controls",
            "_view_module_version": "1.5.0",
            "_view_name": "IntSliderView",
            "continuous_update": false,
            "description": "Results:",
            "description_tooltip": null,
            "disabled": false,
            "layout": "IPY_MODEL_2cd280a4d72941e394c355c563ec5d0e",
            "max": 10,
            "min": 1,
            "orientation": "horizontal",
            "readout": true,
            "readout_format": "d",
            "step": 1,
            "style": "IPY_MODEL_82358e80b48b42ebafe2a85408cb0430",
            "value": 3
          }
        },
        "1dcf9cc10c0d49c0a6a1817a5906fb1b": {
          "model_module": "@jupyter-widgets/controls",
          "model_module_version": "1.5.0",
          "model_name": "TextModel",
          "state": {
            "_dom_classes": [],
            "_model_module": "@jupyter-widgets/controls",
            "_model_module_version": "1.5.0",
            "_model_name": "TextModel",
            "_view_count": null,
            "_view_module": "@jupyter-widgets/controls",
            "_view_module_version": "1.5.0",
            "_view_name": "TextView",
            "continuous_update": true,
            "description": "Search:",
            "description_tooltip": null,
            "disabled": false,
            "layout": "IPY_MODEL_740c2d18eaa649b8ac0b09c7187f81a1",
            "placeholder": "Enter your search query",
            "style": "IPY_MODEL_920c8f285dad4eac81f5ccd461c9746e",
            "value": "life"
          }
        },
        "2cd280a4d72941e394c355c563ec5d0e": {
          "model_module": "@jupyter-widgets/base",
          "model_module_version": "1.2.0",
          "model_name": "LayoutModel",
          "state": {
            "_model_module": "@jupyter-widgets/base",
            "_model_module_version": "1.2.0",
            "_model_name": "LayoutModel",
            "_view_count": null,
            "_view_module": "@jupyter-widgets/base",
            "_view_module_version": "1.2.0",
            "_view_name": "LayoutView",
            "align_content": null,
            "align_items": null,
            "align_self": null,
            "border": null,
            "bottom": null,
            "display": null,
            "flex": null,
            "flex_flow": null,
            "grid_area": null,
            "grid_auto_columns": null,
            "grid_auto_flow": null,
            "grid_auto_rows": null,
            "grid_column": null,
            "grid_gap": null,
            "grid_row": null,
            "grid_template_areas": null,
            "grid_template_columns": null,
            "grid_template_rows": null,
            "height": null,
            "justify_content": null,
            "justify_items": null,
            "left": null,
            "margin": null,
            "max_height": null,
            "max_width": null,
            "min_height": null,
            "min_width": null,
            "object_fit": null,
            "object_position": null,
            "order": null,
            "overflow": null,
            "overflow_x": null,
            "overflow_y": null,
            "padding": null,
            "right": null,
            "top": null,
            "visibility": null,
            "width": null
          }
        },
        "36e0c35ac8a14ddeba364fbc098fdfb4": {
          "model_module": "@jupyter-widgets/controls",
          "model_module_version": "1.5.0",
          "model_name": "ButtonStyleModel",
          "state": {
            "_model_module": "@jupyter-widgets/controls",
            "_model_module_version": "1.5.0",
            "_model_name": "ButtonStyleModel",
            "_view_count": null,
            "_view_module": "@jupyter-widgets/base",
            "_view_module_version": "1.2.0",
            "_view_name": "StyleView",
            "button_color": null,
            "font_weight": ""
          }
        },
        "3ae49bcc9fb04504871c0468cb105a53": {
          "model_module": "@jupyter-widgets/controls",
          "model_module_version": "1.5.0",
          "model_name": "VBoxModel",
          "state": {
            "_dom_classes": [],
            "_model_module": "@jupyter-widgets/controls",
            "_model_module_version": "1.5.0",
            "_model_name": "VBoxModel",
            "_view_count": null,
            "_view_module": "@jupyter-widgets/controls",
            "_view_module_version": "1.5.0",
            "_view_name": "VBoxView",
            "box_style": "",
            "children": [
              "IPY_MODEL_f69a335ddcca496ebcfb43b753183390",
              "IPY_MODEL_8922fc8a50044089b437d7dcc49f1aaf",
              "IPY_MODEL_612d2fcf7dc947f0b0fb3bbcdfc20ae8"
            ],
            "layout": "IPY_MODEL_b301a3e676ad43ec8d3d5b305eee66cd"
          }
        },
        "45d7c18fab9c4c6dafb157bc7867f37b": {
          "model_module": "@jupyter-widgets/base",
          "model_module_version": "1.2.0",
          "model_name": "LayoutModel",
          "state": {
            "_model_module": "@jupyter-widgets/base",
            "_model_module_version": "1.2.0",
            "_model_name": "LayoutModel",
            "_view_count": null,
            "_view_module": "@jupyter-widgets/base",
            "_view_module_version": "1.2.0",
            "_view_name": "LayoutView",
            "align_content": null,
            "align_items": null,
            "align_self": null,
            "border": null,
            "bottom": null,
            "display": null,
            "flex": null,
            "flex_flow": null,
            "grid_area": null,
            "grid_auto_columns": null,
            "grid_auto_flow": null,
            "grid_auto_rows": null,
            "grid_column": null,
            "grid_gap": null,
            "grid_row": null,
            "grid_template_areas": null,
            "grid_template_columns": null,
            "grid_template_rows": null,
            "height": null,
            "justify_content": null,
            "justify_items": null,
            "left": null,
            "margin": null,
            "max_height": null,
            "max_width": null,
            "min_height": null,
            "min_width": null,
            "object_fit": null,
            "object_position": null,
            "order": null,
            "overflow": null,
            "overflow_x": null,
            "overflow_y": null,
            "padding": null,
            "right": null,
            "top": null,
            "visibility": null,
            "width": null
          }
        },
        "519356a170d84964b8fb0345b0b8b1b2": {
          "model_module": "@jupyter-widgets/base",
          "model_module_version": "1.2.0",
          "model_name": "LayoutModel",
          "state": {
            "_model_module": "@jupyter-widgets/base",
            "_model_module_version": "1.2.0",
            "_model_name": "LayoutModel",
            "_view_count": null,
            "_view_module": "@jupyter-widgets/base",
            "_view_module_version": "1.2.0",
            "_view_name": "LayoutView",
            "align_content": null,
            "align_items": null,
            "align_self": null,
            "border": null,
            "bottom": null,
            "display": null,
            "flex": null,
            "flex_flow": null,
            "grid_area": null,
            "grid_auto_columns": null,
            "grid_auto_flow": null,
            "grid_auto_rows": null,
            "grid_column": null,
            "grid_gap": null,
            "grid_row": null,
            "grid_template_areas": null,
            "grid_template_columns": null,
            "grid_template_rows": null,
            "height": null,
            "justify_content": null,
            "justify_items": null,
            "left": null,
            "margin": null,
            "max_height": null,
            "max_width": null,
            "min_height": null,
            "min_width": null,
            "object_fit": null,
            "object_position": null,
            "order": null,
            "overflow": null,
            "overflow_x": null,
            "overflow_y": null,
            "padding": null,
            "right": null,
            "top": null,
            "visibility": null,
            "width": null
          }
        },
        "612d2fcf7dc947f0b0fb3bbcdfc20ae8": {
          "model_module": "@jupyter-widgets/output",
          "model_module_version": "1.0.0",
          "model_name": "OutputModel",
          "state": {
            "_dom_classes": [],
            "_model_module": "@jupyter-widgets/output",
            "_model_module_version": "1.0.0",
            "_model_name": "OutputModel",
            "_view_count": null,
            "_view_module": "@jupyter-widgets/output",
            "_view_module_version": "1.0.0",
            "_view_name": "OutputView",
            "layout": "IPY_MODEL_519356a170d84964b8fb0345b0b8b1b2",
            "msg_id": "",
            "outputs": [
              {
                "name": "stdout",
                "output_type": "stream",
                "text": [
                  "Searching for: 'life' (top 3 results)...\n",
                  "\n",
                  "Generating embeddings for 1 texts...\n",
                  "--- Rank 1 --- (Distance: 1.0015)\n",
                  "Category: rec.autos\n",
                  "People get a life !!!!!!!!!!...\n",
                  "----------------------------------------\n",
                  "\n",
                  "--- Rank 2 --- (Distance: 1.2026)\n",
                  "Category: soc.religion.christian\n",
                  "> repeated lives on earth....\n",
                  "----------------------------------------\n",
                  "\n",
                  "--- Rank 3 --- (Distance: 1.3805)\n",
                  "Category: comp.graphics\n",
                  "Hello,...\n",
                  "----------------------------------------\n",
                  "\n"
                ]
              }
            ]
          }
        },
        "740c2d18eaa649b8ac0b09c7187f81a1": {
          "model_module": "@jupyter-widgets/base",
          "model_module_version": "1.2.0",
          "model_name": "LayoutModel",
          "state": {
            "_model_module": "@jupyter-widgets/base",
            "_model_module_version": "1.2.0",
            "_model_name": "LayoutModel",
            "_view_count": null,
            "_view_module": "@jupyter-widgets/base",
            "_view_module_version": "1.2.0",
            "_view_name": "LayoutView",
            "align_content": null,
            "align_items": null,
            "align_self": null,
            "border": null,
            "bottom": null,
            "display": null,
            "flex": null,
            "flex_flow": null,
            "grid_area": null,
            "grid_auto_columns": null,
            "grid_auto_flow": null,
            "grid_auto_rows": null,
            "grid_column": null,
            "grid_gap": null,
            "grid_row": null,
            "grid_template_areas": null,
            "grid_template_columns": null,
            "grid_template_rows": null,
            "height": null,
            "justify_content": null,
            "justify_items": null,
            "left": null,
            "margin": null,
            "max_height": null,
            "max_width": null,
            "min_height": null,
            "min_width": null,
            "object_fit": null,
            "object_position": null,
            "order": null,
            "overflow": null,
            "overflow_x": null,
            "overflow_y": null,
            "padding": null,
            "right": null,
            "top": null,
            "visibility": null,
            "width": "60%"
          }
        },
        "82358e80b48b42ebafe2a85408cb0430": {
          "model_module": "@jupyter-widgets/controls",
          "model_module_version": "1.5.0",
          "model_name": "SliderStyleModel",
          "state": {
            "_model_module": "@jupyter-widgets/controls",
            "_model_module_version": "1.5.0",
            "_model_name": "SliderStyleModel",
            "_view_count": null,
            "_view_module": "@jupyter-widgets/base",
            "_view_module_version": "1.2.0",
            "_view_name": "StyleView",
            "description_width": "",
            "handle_color": null
          }
        },
        "8922fc8a50044089b437d7dcc49f1aaf": {
          "model_module": "@jupyter-widgets/controls",
          "model_module_version": "1.5.0",
          "model_name": "ButtonModel",
          "state": {
            "_dom_classes": [],
            "_model_module": "@jupyter-widgets/controls",
            "_model_module_version": "1.5.0",
            "_model_name": "ButtonModel",
            "_view_count": null,
            "_view_module": "@jupyter-widgets/controls",
            "_view_module_version": "1.5.0",
            "_view_name": "ButtonView",
            "button_style": "",
            "description": "Search Now",
            "disabled": false,
            "icon": "",
            "layout": "IPY_MODEL_45d7c18fab9c4c6dafb157bc7867f37b",
            "style": "IPY_MODEL_36e0c35ac8a14ddeba364fbc098fdfb4",
            "tooltip": ""
          }
        },
        "8a402a428c3847ff98b1044212cb822e": {
          "model_module": "@jupyter-widgets/base",
          "model_module_version": "1.2.0",
          "model_name": "LayoutModel",
          "state": {
            "_model_module": "@jupyter-widgets/base",
            "_model_module_version": "1.2.0",
            "_model_name": "LayoutModel",
            "_view_count": null,
            "_view_module": "@jupyter-widgets/base",
            "_view_module_version": "1.2.0",
            "_view_name": "LayoutView",
            "align_content": null,
            "align_items": null,
            "align_self": null,
            "border": null,
            "bottom": null,
            "display": null,
            "flex": null,
            "flex_flow": null,
            "grid_area": null,
            "grid_auto_columns": null,
            "grid_auto_flow": null,
            "grid_auto_rows": null,
            "grid_column": null,
            "grid_gap": null,
            "grid_row": null,
            "grid_template_areas": null,
            "grid_template_columns": null,
            "grid_template_rows": null,
            "height": null,
            "justify_content": null,
            "justify_items": null,
            "left": null,
            "margin": null,
            "max_height": null,
            "max_width": null,
            "min_height": null,
            "min_width": null,
            "object_fit": null,
            "object_position": null,
            "order": null,
            "overflow": null,
            "overflow_x": null,
            "overflow_y": null,
            "padding": null,
            "right": null,
            "top": null,
            "visibility": null,
            "width": null
          }
        },
        "920c8f285dad4eac81f5ccd461c9746e": {
          "model_module": "@jupyter-widgets/controls",
          "model_module_version": "1.5.0",
          "model_name": "DescriptionStyleModel",
          "state": {
            "_model_module": "@jupyter-widgets/controls",
            "_model_module_version": "1.5.0",
            "_model_name": "DescriptionStyleModel",
            "_view_count": null,
            "_view_module": "@jupyter-widgets/base",
            "_view_module_version": "1.2.0",
            "_view_name": "StyleView",
            "description_width": ""
          }
        },
        "b301a3e676ad43ec8d3d5b305eee66cd": {
          "model_module": "@jupyter-widgets/base",
          "model_module_version": "1.2.0",
          "model_name": "LayoutModel",
          "state": {
            "_model_module": "@jupyter-widgets/base",
            "_model_module_version": "1.2.0",
            "_model_name": "LayoutModel",
            "_view_count": null,
            "_view_module": "@jupyter-widgets/base",
            "_view_module_version": "1.2.0",
            "_view_name": "LayoutView",
            "align_content": null,
            "align_items": null,
            "align_self": null,
            "border": null,
            "bottom": null,
            "display": null,
            "flex": null,
            "flex_flow": null,
            "grid_area": null,
            "grid_auto_columns": null,
            "grid_auto_flow": null,
            "grid_auto_rows": null,
            "grid_column": null,
            "grid_gap": null,
            "grid_row": null,
            "grid_template_areas": null,
            "grid_template_columns": null,
            "grid_template_rows": null,
            "height": null,
            "justify_content": null,
            "justify_items": null,
            "left": null,
            "margin": null,
            "max_height": null,
            "max_width": null,
            "min_height": null,
            "min_width": null,
            "object_fit": null,
            "object_position": null,
            "order": null,
            "overflow": null,
            "overflow_x": null,
            "overflow_y": null,
            "padding": null,
            "right": null,
            "top": null,
            "visibility": null,
            "width": null
          }
        },
        "f69a335ddcca496ebcfb43b753183390": {
          "model_module": "@jupyter-widgets/controls",
          "model_module_version": "1.5.0",
          "model_name": "HBoxModel",
          "state": {
            "_dom_classes": [],
            "_model_module": "@jupyter-widgets/controls",
            "_model_module_version": "1.5.0",
            "_model_name": "HBoxModel",
            "_view_count": null,
            "_view_module": "@jupyter-widgets/controls",
            "_view_module_version": "1.5.0",
            "_view_name": "HBoxView",
            "box_style": "",
            "children": [
              "IPY_MODEL_1dcf9cc10c0d49c0a6a1817a5906fb1b",
              "IPY_MODEL_0cea13719f2f4afd8f508678de7c4033"
            ],
            "layout": "IPY_MODEL_8a402a428c3847ff98b1044212cb822e"
          }
        }
      }
    }
  },
  "nbformat": 4,
  "nbformat_minor": 5
}
